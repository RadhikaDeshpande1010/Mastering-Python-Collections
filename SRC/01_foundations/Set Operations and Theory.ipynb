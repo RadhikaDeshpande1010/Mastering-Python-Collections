<h1><sub><img src="https://github.com/RadhikaDeshpande1010/icon-library/blob/main/python-icon/python-icon.png" alt="Icon" height="27" width="27"></sub> Python Practice — Lists, Sets & Strings </h1>

<h2>Set Operations and Theory</h2>

This notebook provides a hands-on introduction to **Python sets** and their commonly used methods. It is designed for beginners to build a strong foundation in handling lists through step-by-step examples and exercises.

> **Python version:** 3.8+

---

### How to Run

1. **Clone** this repository and open the folder in your editor/terminal.
2. Start Jupyter Notebook:

   ```bash
    jupyter notebook
   ```

> Tip: You can also copy any solution function into your notebook/REPL to experiment quickly.
