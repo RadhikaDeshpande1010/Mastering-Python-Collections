{
 "cells": [
  {
   "cell_type": "markdown",
   "id": "b993e8a3-7ea5-4297-97bf-a9e97cb8a700",
   "metadata": {},
   "source": [
    "##### Sets in Python"
   ]
  },
  {
   "cell_type": "markdown",
   "id": "6a5af538-a159-4b75-a277-48478ba97719",
   "metadata": {},
   "source": [
    "A Set in Python is used to store a collection of items with the following properties.\n",
    "- No duplicate elements. If try to insert the same item again, it overwrites previous one.\n",
    "- An unordered collection. When we access all items, they are accessed without any specific order and we cannot access items using indexes as we do in lists.\n",
    "- Mutable, meaning we can add or remove elements after their creation, the individual elements within the set cannot be changed directly."
   ]
  },
  {
   "cell_type": "code",
   "execution_count": 3,
   "id": "dd9b8f37-ebcd-47b2-8215-baea991cba1d",
   "metadata": {},
   "outputs": [
    {
     "name": "stdout",
     "output_type": "stream",
     "text": [
      "[10, 20, 30, 10, 10, 40, 30, 20, 40, 50]\n"
     ]
    }
   ],
   "source": [
    "ls = [10,20,30,10,10,40,30,20,40,50]\n",
    "print(ls)"
   ]
  },
  {
   "cell_type": "code",
   "execution_count": 7,
   "id": "aab3889a-2984-4fb9-b95f-f3379e8ac40f",
   "metadata": {},
   "outputs": [
    {
     "name": "stdout",
     "output_type": "stream",
     "text": [
      "{50, 20, 40, 10, 30}\n"
     ]
    }
   ],
   "source": [
    "set1 = {10,20,30,10,10,40,30,20,40,50}\n",
    "print(set1)"
   ]
  },
  {
   "cell_type": "code",
   "execution_count": 13,
   "id": "761890a6-4efe-477f-bdd2-cdddad6fc61f",
   "metadata": {},
   "outputs": [
    {
     "name": "stdout",
     "output_type": "stream",
     "text": [
      "{40, 10, 50, 20, 30}\n"
     ]
    }
   ],
   "source": [
    "set2 = set()\n",
    "set2.add(10)\n",
    "set2.add(20)\n",
    "set2.add(30)\n",
    "set2.add(40)\n",
    "set2.add(50)\n",
    "set2.add(10)\n",
    "print(set2)"
   ]
  },
  {
   "cell_type": "code",
   "execution_count": 17,
   "id": "477af1e7-1f0e-4360-9f67-799b256504d7",
   "metadata": {},
   "outputs": [
    {
     "name": "stdout",
     "output_type": "stream",
     "text": [
      "{40, 50, 20, 30}\n"
     ]
    }
   ],
   "source": [
    "set2.remove(10)\n",
    "print(set2)"
   ]
  },
  {
   "cell_type": "code",
   "execution_count": 19,
   "id": "a930d7a2-1309-49a3-8d09-687b116dcf47",
   "metadata": {},
   "outputs": [
    {
     "name": "stdout",
     "output_type": "stream",
     "text": [
      "{40, 10, 50, 20, 30}\n"
     ]
    }
   ],
   "source": [
    "set1 = {10,20,30,40}\n",
    "set2 = {10,20,30,50}\n",
    "set3 = set1.union(set2)\n",
    "print(set3)"
   ]
  },
  {
   "cell_type": "code",
   "execution_count": 21,
   "id": "c854144b-098a-4db5-81c7-4dbe375b9671",
   "metadata": {},
   "outputs": [
    {
     "name": "stdout",
     "output_type": "stream",
     "text": [
      "{10, 20, 30}\n"
     ]
    }
   ],
   "source": [
    "set1 = {10,20,30,40}\n",
    "set2 = {10,20,30,50}\n",
    "set4 = set1.intersection(set2)\n",
    "print(set4)"
   ]
  },
  {
   "cell_type": "code",
   "execution_count": 25,
   "id": "7fe2aad4-e086-471d-8721-5f10de01b118",
   "metadata": {},
   "outputs": [
    {
     "name": "stdout",
     "output_type": "stream",
     "text": [
      "{40, 60}\n"
     ]
    }
   ],
   "source": [
    "set1 = {10,20,30,40,50,60}\n",
    "set2 = {10,20,30,50}\n",
    "set5 = set1.difference(set2)\n",
    "print(set5)"
   ]
  },
  {
   "cell_type": "code",
   "execution_count": 27,
   "id": "c8934bf1-1324-4014-9890-2029614af7c8",
   "metadata": {},
   "outputs": [
    {
     "name": "stdout",
     "output_type": "stream",
     "text": [
      "{80, 70}\n"
     ]
    }
   ],
   "source": [
    "set1 = {10,20,30,40,50,60}\n",
    "set2 = {10,20,30,50,70,80}\n",
    "set6 = set2.difference(set1)\n",
    "print(set6)"
   ]
  },
  {
   "cell_type": "code",
   "execution_count": 29,
   "id": "9617ffee-e5a8-4b5e-85c8-54fd734235af",
   "metadata": {},
   "outputs": [
    {
     "name": "stdout",
     "output_type": "stream",
     "text": [
      "{40, 10, 50, 20, 30}\n"
     ]
    }
   ],
   "source": [
    "ls = [10,20,30,10,10,40,30,20,40,50]\n",
    "res = set(ls)\n",
    "print(res)"
   ]
  },
  {
   "cell_type": "code",
   "execution_count": 33,
   "id": "3af6fe48-2c29-4d64-a5fe-94f3d80fdcaf",
   "metadata": {},
   "outputs": [
    {
     "name": "stdout",
     "output_type": "stream",
     "text": [
      "80\n",
      "100\n",
      "101\n",
      "200\n",
      "201\n",
      "90\n",
      "91\n"
     ]
    }
   ],
   "source": [
    "set1 = {80,90,91,100,101,200,201}\n",
    "for i in set1:\n",
    "    print(i)"
   ]
  },
  {
   "cell_type": "code",
   "execution_count": 35,
   "id": "2a3a3eaf-df6b-4bb1-976a-9603e7031593",
   "metadata": {},
   "outputs": [
    {
     "name": "stdout",
     "output_type": "stream",
     "text": [
      "True\n"
     ]
    }
   ],
   "source": [
    "set1 = {80,90,91,100,101,200,201}\n",
    "num = 91\n",
    "res1 = num in set1\n",
    "print(res1)"
   ]
  },
  {
   "cell_type": "code",
   "execution_count": 39,
   "id": "e24cd5ec-4d40-4ee6-88a0-87a7c3f38f54",
   "metadata": {},
   "outputs": [
    {
     "name": "stdout",
     "output_type": "stream",
     "text": [
      "False\n"
     ]
    }
   ],
   "source": [
    "set1 = {80,90,91,100,101,200,201}\n",
    "num = 300\n",
    "res1 = num in set1\n",
    "print(res1)"
   ]
  },
  {
   "cell_type": "code",
   "execution_count": 43,
   "id": "4bdb52a3-dc81-41e5-b20c-3b9f7a0f6396",
   "metadata": {},
   "outputs": [
    {
     "name": "stdout",
     "output_type": "stream",
     "text": [
      "{40, 10, 20, 70}\n",
      "{400, 100, 20, 70}\n",
      "{20, 70}\n"
     ]
    }
   ],
   "source": [
    "list1 = [20,40,10,70]\n",
    "list2 = [20,400,100,70]\n",
    "set1 = set(list1)\n",
    "set2 = set(list2)\n",
    "print(set1)\n",
    "print(set2)\n",
    "res = set1.intersection(set2)\n",
    "print(res)"
   ]
  },
  {
   "cell_type": "code",
   "execution_count": 29,
   "id": "5fd1f615-b38f-4e5d-84ac-85b39da52c90",
   "metadata": {},
   "outputs": [
    {
     "name": "stdout",
     "output_type": "stream",
     "text": [
      "{8, 5, 6, 7}\n",
      "{1, 5, 9, 6}\n",
      "{5, 6}\n"
     ]
    }
   ],
   "source": [
    "num1 = 5678\n",
    "num2 = 6951\n",
    "\n",
    "set1 = set()\n",
    "set2 = set()\n",
    "while num1 != 0:\n",
    "    rem1 = num1 % 10\n",
    "    set1.add(rem1)\n",
    "    num1 = num1 // 10\n",
    "print(set1)\n",
    "\n",
    "while num2 != 0:\n",
    "    rem2 = num2 % 10\n",
    "    set2.add(rem2)\n",
    "    num2 = num2 // 10\n",
    "print(set2)\n",
    "\n",
    "res = set1.intersection(set2)\n",
    "print(res)\n"
   ]
  },
  {
   "cell_type": "code",
   "execution_count": 51,
   "id": "2ea79bd4-e350-4712-9993-2d4c930de2fe",
   "metadata": {},
   "outputs": [
    {
     "name": "stdout",
     "output_type": "stream",
     "text": [
      "{40, 10, 50, 20, 30}\n",
      "{10, 20, 60, 30}\n",
      "45.0\n"
     ]
    }
   ],
   "source": [
    "list1 = [10,20,30,40,50]\n",
    "list2 = [20,60,10,20,30]\n",
    "#[40,50]\n",
    "set1 = set(list1)\n",
    "set2 = set(list2)\n",
    "print(set1)\n",
    "print(set2)\n",
    "res = set1.difference(set2)\n",
    "count = len(res)\n",
    "res1 = sum(res)\n",
    "print(res1/count)"
   ]
  }
 ],
 "metadata": {
  "kernelspec": {
   "display_name": "Python 3 (ipykernel)",
   "language": "python",
   "name": "python3"
  },
  "language_info": {
   "codemirror_mode": {
    "name": "ipython",
    "version": 3
   },
   "file_extension": ".py",
   "mimetype": "text/x-python",
   "name": "python",
   "nbconvert_exporter": "python",
   "pygments_lexer": "ipython3",
   "version": "3.12.7"
  }
 },
 "nbformat": 4,
 "nbformat_minor": 5
}
